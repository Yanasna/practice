{
 "cells": [
  {
   "cell_type": "code",
   "execution_count": 46,
   "id": "0be0a337-86e8-4f0f-beda-2022c386d678",
   "metadata": {},
   "outputs": [
    {
     "name": "stdin",
     "output_type": "stream",
     "text": [
      "이메일 주소를 입력하세요  : (quit 입력시 종료) 1.@net\n"
     ]
    },
    {
     "name": "stdout",
     "output_type": "stream",
     "text": [
      "무효\n"
     ]
    },
    {
     "name": "stdin",
     "output_type": "stream",
     "text": [
      "이메일 주소를 입력하세요  : (quit 입력시 종료) 1@.net\n"
     ]
    },
    {
     "name": "stdout",
     "output_type": "stream",
     "text": [
      "유효\n"
     ]
    },
    {
     "name": "stdin",
     "output_type": "stream",
     "text": [
      "이메일 주소를 입력하세요  : (quit 입력시 종료) quit\n"
     ]
    }
   ],
   "source": [
    "while True : \n",
    "    email = input(\"이메일 주소를 입력하세요  : (quit 입력시 종료)\")\n",
    "\n",
    "    if email == 'quit' :\n",
    "        break\n",
    "    else : \n",
    "        if (email.count('@') > 0) and (email.find('.') -1 == email.count('@')) : \n",
    "                print('유효')\n",
    "        else : \n",
    "                print('무효')"
   ]
  },
  {
   "cell_type": "code",
   "execution_count": 61,
   "id": "8b80a52c-a19c-40b8-b244-0ce0de5c8cb8",
   "metadata": {},
   "outputs": [
    {
     "name": "stdin",
     "output_type": "stream",
     "text": [
      "URL을 입력하세요(예 : https://www.google.com) :  https://www.dongyang.ac.kr/index.jsp\n"
     ]
    },
    {
     "name": "stdout",
     "output_type": "stream",
     "text": [
      "도메인 이름 :  dongyang.ac.kr\n",
      "도메인 이름 :  dongyang.ac.kr\n"
     ]
    }
   ],
   "source": [
    "url = input(\"URL을 입력하세요(예 : https://www.google.com) : \")\n",
    "\n",
    "i = url.split('www.')\n",
    "u = url.replace('https://www.', '')\n",
    "p = u.replace('/index.jsp', '')\n",
    "domain = i[1].replace('/index.jsp', '')\n",
    "\n",
    "print(\"도메인 이름 : \", domain)\n",
    "print(\"도메인 이름 : \", p)"
   ]
  },
  {
   "cell_type": "code",
   "execution_count": 67,
   "id": "7c319bfc-bfcf-4b86-bbe4-67c103da73ab",
   "metadata": {},
   "outputs": [
    {
     "name": "stdin",
     "output_type": "stream",
     "text": [
      "문자열을 입력하세요 :  agc\n"
     ]
    },
    {
     "name": "stdout",
     "output_type": "stream",
     "text": [
      "암호화된 문자열  :  cie\n"
     ]
    }
   ],
   "source": [
    "text= input(\"문자열을 입력하세요 : \")\n",
    "\n",
    "encrypted = []\n",
    "for char in text : \n",
    "    encrypted.append(chr(ord(char) + 2))\n",
    "    \n",
    "''.join(encrypted)\n",
    "print(\"암호화된 문자열  : \", ''.join(encrypted))"
   ]
  },
  {
   "cell_type": "code",
   "execution_count": 22,
   "id": "14ba38e2-a20f-4305-bb32-b8e5761de0a7",
   "metadata": {},
   "outputs": [
    {
     "name": "stdout",
     "output_type": "stream",
     "text": [
      "가\n"
     ]
    }
   ],
   "source": [
    "u = chr(44032) \n",
    "print(u)"
   ]
  },
  {
   "cell_type": "code",
   "execution_count": 30,
   "id": "62747f8f-9983-404d-a6bb-a9747b589def",
   "metadata": {},
   "outputs": [
    {
     "data": {
      "text/plain": [
       "['aa ', ' bb', ' cc', ' nn', ' yy', ' uu']"
      ]
     },
     "execution_count": 30,
     "metadata": {},
     "output_type": "execute_result"
    }
   ],
   "source": [
    " i = \"aa , bb, cc, nn, yy, uu\"\n",
    "\n",
    "i.split(',')\n",
    "\n"
   ]
  },
  {
   "cell_type": "code",
   "execution_count": 33,
   "id": "c27c89e4-260d-4f5d-9b31-af8f5b9cfa38",
   "metadata": {},
   "outputs": [
    {
     "data": {
      "text/plain": [
       "'1::2::3::4'"
      ]
     },
     "execution_count": 33,
     "metadata": {},
     "output_type": "execute_result"
    }
   ],
   "source": [
    "\"::\".join(\"1234\")"
   ]
  },
  {
   "cell_type": "code",
   "execution_count": 21,
   "id": "156c0f5e-533a-4291-a699-f3bf191b363c",
   "metadata": {},
   "outputs": [
    {
     "name": "stdout",
     "output_type": "stream",
     "text": [
      "여러 문장을 입력하세요(빈줄 입력시 종료)\n"
     ]
    },
    {
     "name": "stdin",
     "output_type": "stream",
     "text": [
      "문장 입력 :  Python is great\n"
     ]
    },
    {
     "name": "stdout",
     "output_type": "stream",
     "text": [
      "['Python is great']\n"
     ]
    },
    {
     "name": "stdin",
     "output_type": "stream",
     "text": [
      "문장 입력 :  \n"
     ]
    },
    {
     "name": "stdout",
     "output_type": "stream",
     "text": [
      "\n",
      "정렬된 문장 : \n",
      "Python great is\n"
     ]
    }
   ],
   "source": [
    "sentences =[]\n",
    "\n",
    "print(\"여러 문장을 입력하세요(빈줄 입력시 종료)\")\n",
    "while True  : \n",
    "    sentence = input(\"문장 입력 : \")\n",
    "    if not sentence.strip() : \n",
    "        break;\n",
    "    sentences.append(sentence)\n",
    "    print(sentences)\n",
    "    \n",
    "print(\"\\n정렬된 문장 : \")\n",
    "A = []\n",
    "for sentence in sentences : \n",
    "    A = sentence.split()\n",
    "    A.sort()\n",
    "    B = ' '.join(A)\n",
    "    print(B)"
   ]
  },
  {
   "cell_type": "code",
   "execution_count": 10,
   "id": "cf5cd258-adb6-436d-a81c-ad209bb27136",
   "metadata": {},
   "outputs": [
    {
     "name": "stdout",
     "output_type": "stream",
     "text": [
      "['192.168.0.1', '203.0.113.45', '198.51.100.23']\n"
     ]
    }
   ],
   "source": [
    "log_data = \"\"\"\n",
    "192.168.0.1 - - [21/Jan/2025:10:00:00 + 0000] \"GET /index.html HTTP/1.1\" 200 1024\n",
    "203.0.113.45 - - [21/Jan/2025:10:01:00 + 0000] \"POST /login HTTP/1.1\" 200 2048\n",
    "198.51.100.23 - - [21/Jan/2025:10:02:00 + 0000] \"GET /dashboard HTTP/1.1\" 403 512\n",
    "\"\"\"\n",
    "ip = log_data.strip().split(\"\\n\")\n",
    "ips = []\n",
    "B = []\n",
    "for word in ip :\n",
    "    B = word.split()\n",
    "    ips.append(B[0])\n",
    "\n",
    "print(ips)"
   ]
  },
  {
   "cell_type": "code",
   "execution_count": 11,
   "id": "96a8ff71-322b-4bd3-add9-3551b8db32ee",
   "metadata": {},
   "outputs": [
    {
     "name": "stdout",
     "output_type": "stream",
     "text": [
      "Welcome to My Website\n"
     ]
    }
   ],
   "source": [
    "html_data = \"\"\"\n",
    "<html>\n",
    "<head>\n",
    "    <title>Welcome to My Website</title>\n",
    "</head>\n",
    "<body>\n",
    "    <h1>Hello, World!</h1>\n",
    "</body>\n",
    "</html>\n",
    "\"\"\"\n",
    "\n",
    "start_index = html_data.find(\"<title>\") + len(\"<title>\")\n",
    "end_index = html_data.find(\"</title>\")\n",
    "\n",
    "print(html_data[start_index : end_index])"
   ]
  },
  {
   "cell_type": "code",
   "execution_count": 13,
   "id": "3a61a37a-ed31-4f1d-bb1e-6f22572a81ce",
   "metadata": {},
   "outputs": [
    {
     "name": "stdout",
     "output_type": "stream",
     "text": [
      "Decrypted Message :  Hello world!\n"
     ]
    }
   ],
   "source": [
    "encrypted_message = \"oolllleeHH !!ddllrrooww\"\n",
    "\n",
    "reversed_message = encrypted_message[::-1][::2]\n",
    "r_word = reversed_message.split()\n",
    "r_word.sort()\n",
    "decrypted_message = ' '.join(r_word)\n",
    "\n",
    "print(\"Decrypted Message : \", decrypted_message)"
   ]
  },
  {
   "cell_type": "code",
   "execution_count": 15,
   "id": "6d3e50e6-e049-45c1-a0b5-c4de163cdf08",
   "metadata": {},
   "outputs": [
    {
     "name": "stdout",
     "output_type": "stream",
     "text": [
      "1. 사용자별 총 요청 수 :  {'user1': 3, 'user2': 3, 'user3': 2}\n",
      "2. 5000번대 오류 발생 사용자와 횟수 :  {'user1': 1, 'user2': 1}\n",
      "3. '/admin' URL  접근 사용자와 횟수 :  {'user1': 1, 'user2': 1}\n"
     ]
    }
   ],
   "source": [
    "logs = {\n",
    "    \"user1\" : [(\"/home\", 200, \"2025-01-20T10:00:00\"),\n",
    "              (\"/admin\", 500, \"2025-01-20T10:10:00\"),\n",
    "              (\"/dashboard\", 200, \"2025-01-20T10:20:00\")],\n",
    "    \"user2\" : [(\"/home\", 200, \"2025-01-20T11:00:00\"),\n",
    "               (\"/admin\", 403, \"2025-01-20T11:15:00\"),\n",
    "               (\"/settings\", 500, \"2025-01-29T11:30:00\")],\n",
    "    \"user3\" : [(\"/home\", 200, \"2025-01-20T12:00:00\"),\n",
    "               (\"/dashboard\", 200, \"2025-01-20T12:20:00\")]\n",
    "}\n",
    "\n",
    "total_requests = {}\n",
    "for user, requests in logs.items() : \n",
    "    total_requests[user] = len(requests)\n",
    "\n",
    "error_requests = {}\n",
    "for user, requests in logs.items() : \n",
    "    error_count = 0\n",
    "    for url, status, time in requests :\n",
    "        if 500 <= status < 600 : \n",
    "            error_count += 1\n",
    "\n",
    "    if error_count > 0 :\n",
    "        error_requests[user] = error_count\n",
    "\n",
    "admin_access = {}\n",
    "for user, requests in logs.items() : \n",
    "    url_count = 0\n",
    "    for url, status, time in requests :\n",
    "        if url == '/admin' : \n",
    "            url_count += 1\n",
    "\n",
    "    if url_count > 0 :\n",
    "        admin_access[user] = url_count\n",
    "\n",
    "print(\"1. 사용자별 총 요청 수 : \", total_requests)\n",
    "print(\"2. 5000번대 오류 발생 사용자와 횟수 : \", error_requests)\n",
    "print(\"3. '/admin' URL  접근 사용자와 횟수 : \", admin_access)"
   ]
  },
  {
   "cell_type": "code",
   "execution_count": 1,
   "id": "9e649f3c-ce0f-494b-9a95-66a50b4789a5",
   "metadata": {},
   "outputs": [
    {
     "name": "stdout",
     "output_type": "stream",
     "text": [
      "{0: 0, 1: 1, 2: 4, 3: 9, 4: 16}\n"
     ]
    }
   ],
   "source": [
    "sq = {}\n",
    "for x in range(5) : \n",
    "    sq[x] = x ** 2\n",
    "\n",
    "print(sq)\n"
   ]
  },
  {
   "cell_type": "code",
   "execution_count": 3,
   "id": "4671d60b-0cf4-4752-974d-d8ae1f421ec0",
   "metadata": {},
   "outputs": [
    {
     "name": "stdout",
     "output_type": "stream",
     "text": [
      "[1]\n",
      "[1, 2]\n"
     ]
    }
   ],
   "source": [
    "def default_arg(a, obj=[]) : \n",
    "    obj.append(a)\n",
    "    return obj \n",
    "print(default_arg(1))\n",
    "print(default_arg(2))"
   ]
  },
  {
   "cell_type": "code",
   "execution_count": 4,
   "id": "e5af71ae-e8d8-4ffc-a069-6f1a47e06918",
   "metadata": {},
   "outputs": [
    {
     "name": "stdin",
     "output_type": "stream",
     "text": [
      "url 입력 :  http://naver.com/index.jsp\n"
     ]
    },
    {
     "name": "stdout",
     "output_type": "stream",
     "text": [
      "naver.com\n"
     ]
    }
   ],
   "source": [
    "url = input(\"url 입력 : \")\n",
    "\n",
    "domain = url.replace(\"https://\", \"\").replace(\"http://\", \"\").replace(\"/index.jsp\", \"\")\n",
    "\n",
    "print(domain)"
   ]
  },
  {
   "cell_type": "code",
   "execution_count": 8,
   "id": "83b5d1e7-4a00-491b-b6ee-b552f3cc58e3",
   "metadata": {},
   "outputs": [
    {
     "name": "stdout",
     "output_type": "stream",
     "text": [
      "\n",
      " 미등록 IP :  {'192.168.1.6'}\n"
     ]
    }
   ],
   "source": [
    "allowed_ips = {\"192.168.1.1\", \"192.168.1.2\", \"192.168.1.3\", \"192.168.1.4\"}\n",
    "blocked_ips = {\"192.168.1.3\", \"192.168.1.5\"}\n",
    "current_access_ips = {\"192.168.1.1\", \"192.168.1.3\", \"192.168.1.5\", \"192.168.1.6\" }\n",
    "\n",
    "unregistered_ips = set(current_access_ips - (allowed_ips | blocked_ips))\n",
    "\n",
    "print(\"\\n 미등록 IP : \", end =\" \")\n",
    "print(unregistered_ips)"
   ]
  },
  {
   "cell_type": "code",
   "execution_count": 9,
   "id": "5c6c6c23-98ae-4e47-9abf-602af4348bf0",
   "metadata": {},
   "outputs": [
    {
     "name": "stdout",
     "output_type": "stream",
     "text": [
      "p\n"
     ]
    }
   ],
   "source": [
    "d = \"python\"\n",
    "print(d[0])"
   ]
  },
  {
   "cell_type": "code",
   "execution_count": 14,
   "id": "abbd2c73-e432-40b8-b018-399f8fb6a24f",
   "metadata": {},
   "outputs": [
    {
     "name": "stdout",
     "output_type": "stream",
     "text": [
      "3\n"
     ]
    }
   ],
   "source": [
    "c = (10, 3>5, 'computer')\n",
    "\n",
    "print(len(c))"
   ]
  },
  {
   "cell_type": "code",
   "execution_count": 19,
   "id": "4fc5ce4c-9b90-4d85-a6fa-a7cf7d0b5bf7",
   "metadata": {},
   "outputs": [
    {
     "name": "stdout",
     "output_type": "stream",
     "text": [
      "{'야스오': 6300, '르블랑': 1350, '피즈': 4800}\n",
      "{'야스오': 6300, '르블랑': 1350, '피즈': 4800, '요네': 6300}\n",
      "dict_keys(['야스오', '르블랑', '피즈', '요네'])\n",
      "dict_values([6300, 1350, 4800, 6300])\n",
      "dict_items([('야스오', 6300), ('르블랑', 1350), ('피즈', 4800), ('요네', 6300)])\n"
     ]
    }
   ],
   "source": [
    "mart = {'야스오' : 6300, '르블랑' : 1350, '피즈' : 4800}\n",
    "print(mart)\n",
    "\n",
    "mart['요네'] = 6300\n",
    "print(mart)\n",
    "print(mart.keys())\n",
    "print(mart.values())\n",
    "print(mart.items())"
   ]
  },
  {
   "cell_type": "code",
   "execution_count": 23,
   "id": "31e883f0-2572-4f3d-a7ca-e39c329b231f",
   "metadata": {},
   "outputs": [
    {
     "name": "stdin",
     "output_type": "stream",
     "text": [
      "마일 입력>> 80\n"
     ]
    },
    {
     "name": "stdout",
     "output_type": "stream",
     "text": [
      "80 마일은 128.0킬로미터 입니다\n"
     ]
    }
   ],
   "source": [
    "\n",
    "mile = int(input(\"마일 입력>>\"))\n",
    "mile_to_km = mile * 1.6\n",
    "print(f'{mile} 마일은 {mile_to_km}킬로미터 입니다')"
   ]
  },
  {
   "cell_type": "code",
   "execution_count": 26,
   "id": "59fef6a8-f1fb-4720-b4b3-106ae560d5b8",
   "metadata": {},
   "outputs": [
    {
     "name": "stdin",
     "output_type": "stream",
     "text": [
      "첫번째 숫자 입력 :  3\n",
      "두번째 숫자 입력 :  4\n"
     ]
    },
    {
     "name": "stdout",
     "output_type": "stream",
     "text": [
      "3 x 4 = 12\n"
     ]
    }
   ],
   "source": [
    "def multiply(a, b) : \n",
    "    return a*b\n",
    "\n",
    "x = int(input(\"첫번째 숫자 입력 : \"))\n",
    "y = int(input(\"두번째 숫자 입력 : \"))\n",
    "z = multiply(x, y)\n",
    "\n",
    "print(f'{x} x {y} = {z}')"
   ]
  },
  {
   "cell_type": "code",
   "execution_count": 28,
   "id": "86e77ceb-324b-4c0c-925c-3a94a72bec3a",
   "metadata": {},
   "outputs": [
    {
     "name": "stdin",
     "output_type": "stream",
     "text": [
      "첫번째 숫자 입력 :  3\n",
      "두번째 숫자 입력 :  4\n"
     ]
    },
    {
     "name": "stdout",
     "output_type": "stream",
     "text": [
      "3 와 4의 합은 7 곱은 12\n"
     ]
    }
   ],
   "source": [
    "def calc(a, b) : \n",
    "    suma = a + b\n",
    "    multiply = a*b\n",
    "    return suma, multiply\n",
    "\n",
    "x = int(input(\"첫번째 숫자 입력 : \"))\n",
    "y = int(input(\"두번째 숫자 입력 : \"))\n",
    "s, m = calc(x, y)\n",
    "\n",
    "print(f'{x} 와 {y}의 합은 {s} 곱은 {m}')"
   ]
  },
  {
   "cell_type": "code",
   "execution_count": 31,
   "id": "6be4fc0b-fce1-4ef9-a150-15f7e4c9fdf5",
   "metadata": {},
   "outputs": [
    {
     "name": "stdout",
     "output_type": "stream",
     "text": [
      "[2, 4, 6, 8, 10]\n"
     ]
    }
   ],
   "source": [
    "lst = [1, 2, 3, 4, 5, 6, 7, 8,  9, 10]\n",
    "my_lst = list(filter(lambda x : x%2==0, lst))\n",
    "\n",
    "print(my_lst)"
   ]
  },
  {
   "cell_type": "code",
   "execution_count": 33,
   "id": "c0d25cc3-4b2b-4db4-b6c6-61cd19846ca4",
   "metadata": {},
   "outputs": [
    {
     "name": "stdout",
     "output_type": "stream",
     "text": [
      "2 6 11 18 26 36 47 60 74 90 107 126 146 146\n"
     ]
    }
   ],
   "source": [
    "s = 0\n",
    "for num in range(2, 21) : \n",
    "    if num%3 == 0  :\n",
    "        continue\n",
    "    s = num + s\n",
    "    print(s, end=\" \")\n",
    "print(s)"
   ]
  },
  {
   "cell_type": "code",
   "execution_count": 36,
   "id": "fcceeba0-7177-449d-8cb0-4efde9b19e66",
   "metadata": {},
   "outputs": [
    {
     "name": "stdin",
     "output_type": "stream",
     "text": [
      "수1 입력 >> 5\n",
      "수2 입력 >> 4\n",
      "수3 입력 >> 3\n"
     ]
    },
    {
     "name": "stdout",
     "output_type": "stream",
     "text": [
      "5\n"
     ]
    }
   ],
   "source": [
    "x = input(\"수1 입력 >>\")\n",
    "y = input(\"수2 입력 >>\")\n",
    "z = input(\"수3 입력 >>\")\n",
    "\n",
    "max_su1 = x if x > y else y\n",
    "max_su = max_su1 if max_su1 > z else z\n",
    "\n",
    "print(max_su)"
   ]
  },
  {
   "cell_type": "code",
   "execution_count": 41,
   "id": "e7767007-7b94-4395-a43e-6e41482d8238",
   "metadata": {},
   "outputs": [
    {
     "name": "stdin",
     "output_type": "stream",
     "text": [
      "수1 입력 >> 7\n",
      "수2 입력 >> 2\n",
      "수3 입력 >> 6\n"
     ]
    },
    {
     "name": "stdout",
     "output_type": "stream",
     "text": [
      "7\n"
     ]
    }
   ],
   "source": [
    "def my_max(n1, n2, n3) :\n",
    "    max_su1 = n1 if n1 > n2 else n2\n",
    "    max_su = max_su1 if max_su1 > n3 else n3\n",
    "    return max_su\n",
    "\n",
    "num_1 = input(\"수1 입력 >>\")\n",
    "num_2 = input(\"수2 입력 >>\")\n",
    "num_3 = input(\"수3 입력 >>\")\n",
    "\n",
    "result = my_max(num_1, num_2, num_3)\n",
    "print(result)"
   ]
  }
 ],
 "metadata": {
  "kernelspec": {
   "display_name": "Python 3 (ipykernel)",
   "language": "python",
   "name": "python3"
  },
  "language_info": {
   "codemirror_mode": {
    "name": "ipython",
    "version": 3
   },
   "file_extension": ".py",
   "mimetype": "text/x-python",
   "name": "python",
   "nbconvert_exporter": "python",
   "pygments_lexer": "ipython3",
   "version": "3.12.7"
  }
 },
 "nbformat": 4,
 "nbformat_minor": 5
}
