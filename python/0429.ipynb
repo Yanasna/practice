{
 "cells": [
  {
   "cell_type": "code",
   "execution_count": null,
   "id": "0043083a-b76d-429e-a78a-7eea422926c8",
   "metadata": {},
   "outputs": [
    {
     "name": "stdout",
     "output_type": "stream",
     "text": [
      "== 은행 시스템 == \n"
     ]
    },
    {
     "name": "stdin",
     "output_type": "stream",
     "text": [
      "사용자 이름을 입력하세요 kim\n",
      "비밀번호를 입력하세요 1234\n"
     ]
    },
    {
     "name": "stdout",
     "output_type": "stream",
     "text": [
      "환영합니다. kim님\n",
      "사용 가능 명령어 : deposit, withdraw, check, history, exit\n"
     ]
    },
    {
     "name": "stdin",
     "output_type": "stream",
     "text": [
      "명령어를 입력하세요 :  deposit\n",
      "입금 금액을 입력하세요 :  5000\n"
     ]
    },
    {
     "name": "stdout",
     "output_type": "stream",
     "text": [
      "5000원이 입금되었습니다. 현재 잔액 : 5000원\n"
     ]
    },
    {
     "name": "stdin",
     "output_type": "stream",
     "text": [
      "명령어를 입력하세요 :  withdraw\n",
      "출금 금액을 입력하세요 :  200\n"
     ]
    },
    {
     "name": "stdout",
     "output_type": "stream",
     "text": [
      "200원이 출금되었습니다. 현재 잔액 : 4800원\n"
     ]
    },
    {
     "name": "stdin",
     "output_type": "stream",
     "text": [
      "명령어를 입력하세요 :  history\n"
     ]
    },
    {
     "name": "stdout",
     "output_type": "stream",
     "text": [
      "입금 : 5000원\n",
      "출금 : 200원\n"
     ]
    }
   ],
   "source": [
    "import sys\n",
    "def deposit(balance, amount)  : \n",
    "    if amount <= 0 : \n",
    "        print(\"입금 금액은 0보다 커야 합니다\")\n",
    "        return balance\n",
    "    balance += amount\n",
    "    print(f\"{amount}원이 입금되었습니다. 현재 잔액 : {balance}원\")\n",
    "    return balance \n",
    "\n",
    "def withdraw(balance, amount) : \n",
    "    \"\"\"출근함수 : 현재 잔액에서 금액을 차감\"\"\"\n",
    "    if amount <= 0 : \n",
    "        print(\"출금 금액은 0보다 커야합니다.\")\n",
    "    if amount > balance : \n",
    "        print(\"잔액이 부족합니다. 출금할 수 없습니다.\")\n",
    "    \n",
    "    else : \n",
    "        balance -= amount\n",
    "        print(f\"{amount}원이 출금되었습니다. 현재 잔액 : {balance}원\")\n",
    "    \n",
    "    return balance \n",
    "\n",
    "def check_balance(balance) : \n",
    "    \"\"\"잔액 조회 함수\"\"\"\n",
    "    print(f\"현재 잔액은 {balance}원 입니다.\")\n",
    "\n",
    "def main() : \n",
    "    \"\"\"메인 함수 : 은행 시스템 실행\"\"\"\n",
    "    print(\"== 은행 시스템 == \")\n",
    "    user_id = \"kim\"\n",
    "    passwd = \"1234\"\n",
    "    uid = input(\"사용자 이름을 입력하세요\")\n",
    "    pwd = input(\"비밀번호를 입력하세요\")\n",
    "    if uid == user_id and pwd == passwd :\n",
    "        print(f\"환영합니다. {uid}님\")\n",
    "    else : \n",
    "        print(\"오류발생. 프로그램을 종료합니다.\")\n",
    "        sys.exit()\n",
    "\n",
    "    print(\"사용 가능 명령어 : deposit, withdraw, check, history, exit\")\n",
    "    \n",
    "    balance = 0 \n",
    "    history = [] #history list에 log기록 넣기\n",
    "    daily_deposit = 1000000\n",
    "    daily_withdraw = 500000\n",
    "    \n",
    "    \n",
    "    while True : \n",
    "        user_input = input(\"명령어를 입력하세요 : \").strip().lower()\n",
    "\n",
    "        if user_input == \"exit\" : \n",
    "            print(\"프로그램을 종료합니다.\")\n",
    "            break\n",
    "        elif user_input == \"deposit\" : \n",
    "            try : \n",
    "                amount = int(input(\"입금 금액을 입력하세요 : \"))\n",
    "                if daily_deposit - amount > 0 : \n",
    "                    balance = deposit(balance, amount)\n",
    "                    history.append(f\"입금 : {amount}원\")\n",
    "                    daily_deposit -= amount\n",
    "                else  : \n",
    "                    print(\"입금 한도를 초과했습니다.\")\n",
    "            except ValueError  :\n",
    "                print(\"유효한 숫자를 입력하세요\")\n",
    "                \n",
    "        elif user_input == \"withdraw\" : \n",
    "            try : \n",
    "                amount = int(input(\"출금 금액을 입력하세요 : \"))\n",
    "                if daily_withdraw - amount > 0 :\n",
    "                    balance = withdraw(balance, amount)\n",
    "                    history.append(f\"출금 : {amount}원\")\n",
    "                    daily_withdraw -= amount\n",
    "                else : \n",
    "                    print(\"출금 최대 한도를 초과했습니다.\")\n",
    "            except ValueError : \n",
    "                print(\"유효한 숫자를 입력하세요\")\n",
    "        elif user_input == \"check\"  : \n",
    "            check_balance(balance)\n",
    "        elif user_input == \"history\" : \n",
    "            for char in history : \n",
    "                print(char)\n",
    "        else : \n",
    "            print(\"유효하지 않은 명령어 입니다. 다시 입력해주세요\")\n",
    "\n",
    "        \n",
    "\n",
    "if __name__ == \"__main__\":\n",
    "    main()"
   ]
  },
  {
   "cell_type": "code",
   "execution_count": null,
   "id": "f0321e33-8b1a-408f-9d49-f5405954df6a",
   "metadata": {},
   "outputs": [],
   "source": []
  }
 ],
 "metadata": {
  "kernelspec": {
   "display_name": "Python 3 (ipykernel)",
   "language": "python",
   "name": "python3"
  },
  "language_info": {
   "codemirror_mode": {
    "name": "ipython",
    "version": 3
   },
   "file_extension": ".py",
   "mimetype": "text/x-python",
   "name": "python",
   "nbconvert_exporter": "python",
   "pygments_lexer": "ipython3",
   "version": "3.12.7"
  }
 },
 "nbformat": 4,
 "nbformat_minor": 5
}
