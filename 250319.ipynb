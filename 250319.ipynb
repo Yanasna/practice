{
 "cells": [
  {
   "cell_type": "code",
   "execution_count": 1,
   "id": "398601d5-cba9-47c4-bf33-151165e4098a",
   "metadata": {},
   "outputs": [
    {
     "name": "stdout",
     "output_type": "stream",
     "text": [
      "안녕, 현수!\n",
      "안녕, 수희!\n",
      "안녕, 지수!\n"
     ]
    }
   ],
   "source": [
    "def greet() : \n",
    "    print('안녕, 현수!')\n",
    "    print('안녕, 수희!')\n",
    "    print('안녕, 지수!')\n",
    "\n",
    "greet()"
   ]
  },
  {
   "cell_type": "code",
   "execution_count": 5,
   "id": "2239e972-0de8-444c-8b67-2942107e6e8c",
   "metadata": {},
   "outputs": [
    {
     "name": "stdout",
     "output_type": "stream",
     "text": [
      "안녕, 현수!\n"
     ]
    }
   ],
   "source": [
    "def greet(name) : \n",
    "    print(f'안녕, {name}!')\n",
    "\n",
    "greet('현수')"
   ]
  },
  {
   "cell_type": "code",
   "execution_count": 8,
   "id": "9c9b6f20-bf03-414c-a3f8-c112c640f0b9",
   "metadata": {},
   "outputs": [
    {
     "name": "stdin",
     "output_type": "stream",
     "text": [
      "섭씨 온도를 입력하세요 :  3\n"
     ]
    },
    {
     "name": "stdout",
     "output_type": "stream",
     "text": [
      "3.0도는 화씨로 37.40도 입니다.\n"
     ]
    },
    {
     "name": "stdin",
     "output_type": "stream",
     "text": [
      "화씨 온도를 입력하세요 4\n"
     ]
    },
    {
     "name": "stdout",
     "output_type": "stream",
     "text": [
      "4.0도는 화씨로 -28.00도 입니다.\n"
     ]
    }
   ],
   "source": [
    "def c_to_fah(cel) :\n",
    "    fah = (cel * 9/5) + 32\n",
    "    return fah\n",
    "\n",
    "def f_to_cel(fah) : \n",
    "    cel = (fah - 32)\n",
    "    return cel\n",
    "\n",
    "cel = float(input(\"섭씨 온도를 입력하세요 : \"))\n",
    "fah = c_to_fah(cel)\n",
    "\n",
    "print(f\"{cel}도는 화씨로 {fah:.2f}도 입니다.\")\n",
    "\n",
    "fah = float(input(\"화씨 온도를 입력하세요\"))\n",
    "\n",
    "cel = f_to_cel(fah)\n",
    "\n",
    "print(f\"{fah}도는 화씨로 {cel:.2f}도 입니다.\")"
   ]
  },
  {
   "cell_type": "code",
   "execution_count": 9,
   "id": "d35fc846-17ac-442b-9683-cf7d199fa56f",
   "metadata": {},
   "outputs": [],
   "source": [
    "add1 = lambda x : x +1\n",
    "add2 = lambda x, y : x+y\n",
    "mult2 = lambda x, y : x*y\n",
    "\n",
    "a,b = 10, 5\n",
    "print(f'{a} + {1} -> {add1(a)}')\n",
    "print(f'{a} + {1} -> {add1(a)}')\n",
    "print(f'{a} + {1} -> {add1(a)}')"
   ]
  }
 ],
 "metadata": {
  "kernelspec": {
   "display_name": "Python 3 (ipykernel)",
   "language": "python",
   "name": "python3"
  },
  "language_info": {
   "codemirror_mode": {
    "name": "ipython",
    "version": 3
   },
   "file_extension": ".py",
   "mimetype": "text/x-python",
   "name": "python",
   "nbconvert_exporter": "python",
   "pygments_lexer": "ipython3",
   "version": "3.12.7"
  }
 },
 "nbformat": 4,
 "nbformat_minor": 5
}
